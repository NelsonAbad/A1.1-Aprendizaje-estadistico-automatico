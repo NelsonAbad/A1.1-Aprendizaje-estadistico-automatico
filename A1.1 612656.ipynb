{
 "cells": [
  {
   "cell_type": "markdown",
   "id": "65e9fc7e-8e8b-4698-a213-4d0dc843c792",
   "metadata": {},
   "source": [
    "A continuacion se escriben lineas de codigo donde se importa la libreria de 'pandas' para poder usar algunas de las funciones de la libreria. En este caso se usa la funcion 'read_csv' de pandas para abrir el archivo 'A1.1 Obesidad.csv', y estos datos los asignamos a la variable 'data'. Por ultimo con la funcion 'head' mostramos los primeros 10 datos en el archivo guardado en 'data'. Esto dando como resultado una tabla con los campos de Sexo, Edad, Estatura, Peso, FamiliarConSobrepeso, entre otros y su respectivos datos, que incluyen tanto cualitativos como cuantitativos, como lo puede ser la edad, estatura o peso, o el si tiene o no un familiar con sobre peso, si come muchas calorias, si es fumador, etc."
   ]
  },
  {
   "cell_type": "code",
   "execution_count": 2,
   "id": "78f49467-955f-4a97-a87a-bae2f7cdb6a8",
   "metadata": {},
   "outputs": [
    {
     "data": {
      "text/html": [
       "<div>\n",
       "<style scoped>\n",
       "    .dataframe tbody tr th:only-of-type {\n",
       "        vertical-align: middle;\n",
       "    }\n",
       "\n",
       "    .dataframe tbody tr th {\n",
       "        vertical-align: top;\n",
       "    }\n",
       "\n",
       "    .dataframe thead th {\n",
       "        text-align: right;\n",
       "    }\n",
       "</style>\n",
       "<table border=\"1\" class=\"dataframe\">\n",
       "  <thead>\n",
       "    <tr style=\"text-align: right;\">\n",
       "      <th></th>\n",
       "      <th>Sexo</th>\n",
       "      <th>Edad</th>\n",
       "      <th>Estatura</th>\n",
       "      <th>Peso</th>\n",
       "      <th>FamiliarConSobrepeso</th>\n",
       "      <th>ComeMuchasCalorias</th>\n",
       "      <th>ComeVegetales</th>\n",
       "      <th>Fumador</th>\n",
       "      <th>ConsumoDeAgua</th>\n",
       "      <th>NivelDeObesidad</th>\n",
       "    </tr>\n",
       "  </thead>\n",
       "  <tbody>\n",
       "    <tr>\n",
       "      <th>0</th>\n",
       "      <td>Female</td>\n",
       "      <td>21.0</td>\n",
       "      <td>1.62</td>\n",
       "      <td>64.0</td>\n",
       "      <td>yes</td>\n",
       "      <td>no</td>\n",
       "      <td>2.0</td>\n",
       "      <td>no</td>\n",
       "      <td>2.0</td>\n",
       "      <td>Normal_Weight</td>\n",
       "    </tr>\n",
       "    <tr>\n",
       "      <th>1</th>\n",
       "      <td>Female</td>\n",
       "      <td>21.0</td>\n",
       "      <td>1.52</td>\n",
       "      <td>56.0</td>\n",
       "      <td>yes</td>\n",
       "      <td>no</td>\n",
       "      <td>3.0</td>\n",
       "      <td>yes</td>\n",
       "      <td>3.0</td>\n",
       "      <td>Normal_Weight</td>\n",
       "    </tr>\n",
       "    <tr>\n",
       "      <th>2</th>\n",
       "      <td>Male</td>\n",
       "      <td>23.0</td>\n",
       "      <td>1.80</td>\n",
       "      <td>77.0</td>\n",
       "      <td>yes</td>\n",
       "      <td>no</td>\n",
       "      <td>2.0</td>\n",
       "      <td>no</td>\n",
       "      <td>2.0</td>\n",
       "      <td>Normal_Weight</td>\n",
       "    </tr>\n",
       "    <tr>\n",
       "      <th>3</th>\n",
       "      <td>Male</td>\n",
       "      <td>27.0</td>\n",
       "      <td>1.80</td>\n",
       "      <td>87.0</td>\n",
       "      <td>no</td>\n",
       "      <td>no</td>\n",
       "      <td>3.0</td>\n",
       "      <td>no</td>\n",
       "      <td>2.0</td>\n",
       "      <td>Overweight_Level_I</td>\n",
       "    </tr>\n",
       "    <tr>\n",
       "      <th>4</th>\n",
       "      <td>Male</td>\n",
       "      <td>22.0</td>\n",
       "      <td>1.78</td>\n",
       "      <td>89.8</td>\n",
       "      <td>no</td>\n",
       "      <td>no</td>\n",
       "      <td>2.0</td>\n",
       "      <td>no</td>\n",
       "      <td>2.0</td>\n",
       "      <td>Overweight_Level_II</td>\n",
       "    </tr>\n",
       "    <tr>\n",
       "      <th>5</th>\n",
       "      <td>Male</td>\n",
       "      <td>29.0</td>\n",
       "      <td>1.62</td>\n",
       "      <td>53.0</td>\n",
       "      <td>no</td>\n",
       "      <td>yes</td>\n",
       "      <td>2.0</td>\n",
       "      <td>no</td>\n",
       "      <td>2.0</td>\n",
       "      <td>Normal_Weight</td>\n",
       "    </tr>\n",
       "    <tr>\n",
       "      <th>6</th>\n",
       "      <td>Female</td>\n",
       "      <td>23.0</td>\n",
       "      <td>1.50</td>\n",
       "      <td>55.0</td>\n",
       "      <td>yes</td>\n",
       "      <td>yes</td>\n",
       "      <td>3.0</td>\n",
       "      <td>no</td>\n",
       "      <td>2.0</td>\n",
       "      <td>Normal_Weight</td>\n",
       "    </tr>\n",
       "    <tr>\n",
       "      <th>7</th>\n",
       "      <td>Male</td>\n",
       "      <td>22.0</td>\n",
       "      <td>1.64</td>\n",
       "      <td>53.0</td>\n",
       "      <td>no</td>\n",
       "      <td>no</td>\n",
       "      <td>2.0</td>\n",
       "      <td>no</td>\n",
       "      <td>2.0</td>\n",
       "      <td>Normal_Weight</td>\n",
       "    </tr>\n",
       "    <tr>\n",
       "      <th>8</th>\n",
       "      <td>Male</td>\n",
       "      <td>24.0</td>\n",
       "      <td>1.78</td>\n",
       "      <td>64.0</td>\n",
       "      <td>yes</td>\n",
       "      <td>yes</td>\n",
       "      <td>3.0</td>\n",
       "      <td>no</td>\n",
       "      <td>2.0</td>\n",
       "      <td>Normal_Weight</td>\n",
       "    </tr>\n",
       "    <tr>\n",
       "      <th>9</th>\n",
       "      <td>Male</td>\n",
       "      <td>22.0</td>\n",
       "      <td>1.72</td>\n",
       "      <td>68.0</td>\n",
       "      <td>yes</td>\n",
       "      <td>yes</td>\n",
       "      <td>2.0</td>\n",
       "      <td>no</td>\n",
       "      <td>2.0</td>\n",
       "      <td>Normal_Weight</td>\n",
       "    </tr>\n",
       "  </tbody>\n",
       "</table>\n",
       "</div>"
      ],
      "text/plain": [
       "     Sexo  Edad  Estatura  Peso FamiliarConSobrepeso ComeMuchasCalorias  \\\n",
       "0  Female  21.0      1.62  64.0                  yes                 no   \n",
       "1  Female  21.0      1.52  56.0                  yes                 no   \n",
       "2    Male  23.0      1.80  77.0                  yes                 no   \n",
       "3    Male  27.0      1.80  87.0                   no                 no   \n",
       "4    Male  22.0      1.78  89.8                   no                 no   \n",
       "5    Male  29.0      1.62  53.0                   no                yes   \n",
       "6  Female  23.0      1.50  55.0                  yes                yes   \n",
       "7    Male  22.0      1.64  53.0                   no                 no   \n",
       "8    Male  24.0      1.78  64.0                  yes                yes   \n",
       "9    Male  22.0      1.72  68.0                  yes                yes   \n",
       "\n",
       "   ComeVegetales Fumador  ConsumoDeAgua      NivelDeObesidad  \n",
       "0            2.0      no            2.0        Normal_Weight  \n",
       "1            3.0     yes            3.0        Normal_Weight  \n",
       "2            2.0      no            2.0        Normal_Weight  \n",
       "3            3.0      no            2.0   Overweight_Level_I  \n",
       "4            2.0      no            2.0  Overweight_Level_II  \n",
       "5            2.0      no            2.0        Normal_Weight  \n",
       "6            3.0      no            2.0        Normal_Weight  \n",
       "7            2.0      no            2.0        Normal_Weight  \n",
       "8            3.0      no            2.0        Normal_Weight  \n",
       "9            2.0      no            2.0        Normal_Weight  "
      ]
     },
     "execution_count": 2,
     "metadata": {},
     "output_type": "execute_result"
    }
   ],
   "source": [
    "import pandas as pd\n",
    "data = pd.read_csv(\"A1.1 Obesidad.csv\")\n",
    "data.head(10)"
   ]
  },
  {
   "cell_type": "markdown",
   "id": "e21f8977-61e3-4f3c-a145-8f207c2ff4ef",
   "metadata": {},
   "source": [
    "Luego se imprime un mensaje donde se indica una variable que se considero 'faltante' o que podriamos tomar a consideracion en esta investigacion y que tipo de dato se consideraria, ya sea cuantitativa o cualitativa. Que en este caso hablamos de agregar el aspecto de actividad fisica y les asignamos algunos rangos a su frecuencia como lo es un no hace(0), de 1 a 2 dias (1), de 3 a 5 dias (2) o mas de 5 dias (3), y con esto llegamos a la conclusion de que es cuantitativa. "
   ]
  },
  {
   "cell_type": "code",
   "execution_count": 36,
   "id": "055d1c87-9a09-48d1-b671-2d34b65845a9",
   "metadata": {},
   "outputs": [
    {
     "name": "stdout",
     "output_type": "stream",
     "text": [
      "Un aspecto que no se toma a considerar aqui es la 'actividad fisica', podriamos integrar este parametro como un aspecto cuantitativo donde midamos en rangos la frecuencia que el paciente hace actividad fisica. Desde un no hace(0), de 1 a 2 dias (1), de 3 a 5 dias (2) o mas de 5 dias (3)\n"
     ]
    }
   ],
   "source": [
    "print(\"Un aspecto que no se toma a considerar aqui es la 'actividad fisica', podriamos integrar este parametro como un aspecto cuantitativo donde midamos en rangos la frecuencia que el paciente hace actividad fisica. Desde un no hace(0), de 1 a 2 dias (1), de 3 a 5 dias (2) o mas de 5 dias (3)\")"
   ]
  },
  {
   "cell_type": "markdown",
   "id": "07349346-89f0-421b-bab1-9693d69485d5",
   "metadata": {},
   "source": [
    "Ahora con ayuda de la misma libreria 'pandas' usaremos la funcion de 'value_counts' para contar cuantas personas hay en cada uno de los diferentes tipos de nivel de obesidad que se encuentran en nuestra variable 'data'."
   ]
  },
  {
   "cell_type": "code",
   "execution_count": 24,
   "id": "bd56be5f-935b-4c56-b1b4-f2a9b0b7722f",
   "metadata": {},
   "outputs": [
    {
     "name": "stdout",
     "output_type": "stream",
     "text": [
      "NivelDeObesidad\n",
      "Obesity_Type_I         351\n",
      "Obesity_Type_III       324\n",
      "Obesity_Type_II        297\n",
      "Overweight_Level_I     290\n",
      "Overweight_Level_II    290\n",
      "Normal_Weight          287\n",
      "Insufficient_Weight    272\n",
      "Name: count, dtype: int64\n"
     ]
    }
   ],
   "source": [
    "# peso como entrada / nivel como salida\n",
    "import pandas as pd\n",
    "print(data.NivelDeObesidad.value_counts())\n"
   ]
  },
  {
   "cell_type": "markdown",
   "id": "f0077827-e17b-456d-861e-731e46b2b8b9",
   "metadata": {},
   "source": [
    "Por ultimo, junto a nuestra palabra magica para graficar en Jupyter Notebooks (%matplotlib inline), y la libreria de matplotlib.pyplot para poder graficar, graficaremos nuestras variables x, que los pesos de todas las personas cuyo sexo sea 'male', contra y, que es el nivel de obesidad con el mismo parametor de que su sexo sea 'male'. Y le asignamos un nivel de transparencia menor a 0.1."
   ]
  },
  {
   "cell_type": "code",
   "execution_count": 40,
   "id": "91884836-c4b0-44ca-9d38-7fbc1f435fbe",
   "metadata": {},
   "outputs": [
    {
     "data": {
      "image/png": "[encoded data removed]",
      "text/plain": [
       "<Figure size 640x480 with 1 Axes>"
      ]
     },
     "metadata": {},
     "output_type": "display_data"
    }
   ],
   "source": [
    "%matplotlib inline\n",
    "    \n",
    "import matplotlib.pyplot as plt\n",
    "x = data.Peso[data.Sexo == \"Male\"]\n",
    "y = data.NivelDeObesidad[data.Sexo == \"Male\"]\n",
    "alpha = 0.05\n",
    "plt.show(plt.scatter(x,y,alpha))"
   ]
  }
 ],
 "metadata": {
  "kernelspec": {
   "display_name": "Python [conda env:base] *",
   "language": "python",
   "name": "conda-base-py"
  },
  "language_info": {
   "codemirror_mode": {
    "name": "ipython",
    "version": 3
   },
   "file_extension": ".py",
   "mimetype": "text/x-python",
   "name": "python",
   "nbconvert_exporter": "python",
   "pygments_lexer": "ipython3",
   "version": "3.13.5"
  }
 },
 "nbformat": 4,
 "nbformat_minor": 5
}
